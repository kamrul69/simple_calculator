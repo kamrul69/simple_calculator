{
  "nbformat": 4,
  "nbformat_minor": 0,
  "metadata": {
    "colab": {
      "provenance": []
    },
    "kernelspec": {
      "name": "python3",
      "display_name": "Python 3"
    },
    "language_info": {
      "name": "python"
    }
  },
  "cells": [
    {
      "cell_type": "code",
      "execution_count": null,
      "metadata": {
        "id": "hky2sY3zE3EQ"
      },
      "outputs": [],
      "source": [
        "print('Hello!, I am a simple calculator.')\n",
        "\n",
        "def calculate():\n",
        "    # loop in case the user entered an incorrect operator\n",
        "    while True:\n",
        "        num1 = input('\\nPlease,enter a number ')\n",
        "        num2 = input('\\nEnter another number ')\n",
        "        operator = input('\\nPlease insert an operator +,-,*,/ ')\n",
        "        if operator != \"+\" and operator != \"-\" and operator != \"*\" and operator != \"/\":\n",
        "            print('\\nInvalid Operator')\n",
        "            continue  # restart the calculation\n",
        "\n",
        "        else:\n",
        "            if operator == \"+\":\n",
        "                result = int(num1) + int(num2)\n",
        "                print('\\nYour result is ' , result)\n",
        "\n",
        "            elif operator == \"-\":\n",
        "                result = int(num1) - int(num2)\n",
        "                print('\\nYour result is ' ,result)\n",
        "\n",
        "            elif operator == \"*\":\n",
        "                result = int(num1) * int(num2)\n",
        "                print('\\nYour result is ' ,result)\n",
        "\n",
        "            elif operator == \"/\":\n",
        "                result = int(num1) / int(num2)\n",
        "                print('\\nYour result is ' ,result)\n",
        "        return  # Finished with this calculation\n",
        "\n",
        "while True:\n",
        "  calculate()\n",
        "  answer = input('\\nAre you interested more to calculate (y / n) ?')\n",
        "  if answer != 'y' and answer != 'yes':\n",
        "    break\n",
        "\n",
        "print('\\nSince you are not interested, so finish!')\n"
      ]
    }
  ]
}